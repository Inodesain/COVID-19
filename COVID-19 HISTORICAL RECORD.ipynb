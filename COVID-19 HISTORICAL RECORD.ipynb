{
 "cells": [
  {
   "cell_type": "code",
   "execution_count": 36,
   "metadata": {},
   "outputs": [],
   "source": [
    "import pandas as pd\n",
    "from ibmdbpy import IdaDataBase, IdaDataFrame\n",
    "\n",
    "# @hidden_cell\n",
    "# This connection object is used to access your data and contains your credentials.\n",
    "# You might want to remove those credentials before you share your notebook.\n",
    "idadb_2801a07ab9294c48b2fab6ab488309e9 = IdaDataBase(dsn='DASHDB;Database=BLUDB;Hostname=dashdb-txn-sbox-yp-dal09-08.services.dal.bluemix.net;Port=50000;PROTOCOL=TCPIP;UID=nkf97195;PWD=nqk-4wr46m06v557')\n",
    "\n",
    "history = IdaDataFrame(idadb_2801a07ab9294c48b2fab6ab488309e9, 'NKF97195.COVID_19_HISTORICAL_RECORD').as_dataframe()\n",
    "history.head()\n",
    "\n",
    "# You can close the database connection with the following code. Please keep the comment line with the @hidden_cell tag,\n",
    "# because the close function displays parts of the credentials.\n",
    "# @hidden_cell\n",
    "# idadb_2801a07ab9294c48b2fab6ab488309e9.close()\n",
    "# To learn more about the ibmdby package, please read the documentation: http://pythonhosted.org/ibmdbpy/\n",
    "history = history[history['DESCRIPTION'] >= '1']\n",
    "history['LAST_UPDATE'] = pd.to_datetime(history['LAST_UPDATE'])\n",
    "pd.set_option('display.max_columns', None)  \n",
    "pd.set_option('display.expand_frame_repr', False)\n",
    "pd.set_option('max_colwidth', -1)\n",
    "#history"
   ]
  },
  {
   "cell_type": "markdown",
   "metadata": {},
   "source": [
    "# COVID-19 HISTORICAL RECORD"
   ]
  },
  {
   "cell_type": "markdown",
   "metadata": {},
   "source": [
    "## Newsletter : 2019-12-31"
   ]
  },
  {
   "cell_type": "code",
   "execution_count": 37,
   "metadata": {},
   "outputs": [
    {
     "name": "stdout",
     "output_type": "stream",
     "text": [
      " •   Wuhan Municipal Health Commission, China, reported a cluster of cases of pneumonia in Wuhan, Hubei                                                                                                                                                    \n",
      " Province. A novel coronavirus was eventually identified.                                                                                                                                                                                                  \n",
      " WHO : EVENT AS THEY HAPPENED                                                                                                                                                                                                                              \n",
      " Pneumonia of unknown cause reported to WHO China Office                                                                                                                                                                                                   \n",
      " At the close of 2019, the WHO China Country Office was informed of a pneumonia of unknown cause, detected                                                                                                                                                 \n",
      " in the city of Wuhan in Hubei province, China. According to the authorities, some patients were operating dealers                                                                                                                                         \n",
      " or vendors in the Huanan Seafood market.                                                                                                                                                                                                                  \n",
      " Staying in close contact with national authorities, WHO began monitoring the situation and requested further                                                                                                                                              \n",
      " information on the laboratory tests performed and the different diagnoses considered.                                                                                                                                                                     \n"
     ]
    }
   ],
   "source": [
    "history2 = history[history['LAST_UPDATE'] == '2019-12-31']\n",
    "print (history2['DESCRIPTION'].to_string(index=False))"
   ]
  },
  {
   "cell_type": "markdown",
   "metadata": {},
   "source": [
    "## Newsletter : 2020-01-01"
   ]
  },
  {
   "cell_type": "code",
   "execution_count": 38,
   "metadata": {},
   "outputs": [
    {
     "name": "stdout",
     "output_type": "stream",
     "text": [
      " •  WHO had set up the IMST (Incident Management Support Team) across the three levels of the organization:                                                                                                                                                \n",
      " headquarters, regional headquarters and country level, putting the organization on an emergency footing for                                                                                                                                               \n",
      " dealing with the outbreak.                                                                                                                                                                                                                                \n"
     ]
    }
   ],
   "source": [
    "history2 = history[history['LAST_UPDATE'] == '2020-01-01']\n",
    "print (history2['DESCRIPTION'].to_string(index=False))"
   ]
  },
  {
   "cell_type": "markdown",
   "metadata": {},
   "source": [
    "## Newsletter : 2020-01-04"
   ]
  },
  {
   "cell_type": "code",
   "execution_count": 39,
   "metadata": {},
   "outputs": [
    {
     "name": "stdout",
     "output_type": "stream",
     "text": [
      " •  WHO reported on social media that there was a cluster of pneumonia cases – with no deaths – in Wuhan,                                                                                                                                                  \n",
      " Hubei province.                                                                                                                                                                                                                                           \n",
      " WHO : EVENT AS THEY HAPPENED                                                                                                                                                                                                                              \n",
      " WHO responding to a cluster of pneumonia cases in Wuhan                                                                                                                                                                                                   \n",
      " WHO announced it would work across its 3 levels – country office, regional office and HQ – to track the situation                                                                                                                                         \n",
      " and share details as they emerged.                                                                                                                                                                                                                        \n"
     ]
    }
   ],
   "source": [
    "history2 = history[history['LAST_UPDATE'] == '2020-01-04']\n",
    "print (history2['DESCRIPTION'].to_string(index=False))"
   ]
  },
  {
   "cell_type": "markdown",
   "metadata": {},
   "source": [
    "## Newsletter : 2020-01-05"
   ]
  },
  {
   "cell_type": "code",
   "execution_count": 40,
   "metadata": {},
   "outputs": [
    {
     "name": "stdout",
     "output_type": "stream",
     "text": [
      " WHO published our first Disease Outbreak News on the new virus. This is a flagship technical publication to                                                                                                                                               \n",
      " the scientific and public health community as well as global media. It contained a risk assessment and                                                                                                                                                    \n",
      " advice, and reported on what China had told the organization about the status of patients and the public                                                                                                                                                  \n",
      " health response on the cluster of pneumonia cases in Wuhan.                                                                                                                                                                                               \n",
      " WHO : EVENT AS THEY HAPPENED                                                                                                                                                                                                                              \n",
      " WHO reports on pneumonia of unknown cause in China                                                                                                                                                                                                        \n",
      " WHO published its risk assessment and advice and reported on the status of patients and the public health                                                                                                                                                 \n",
      " response by national authorities to the cluster of pneumonia cases in Wuhan.                                                                                                                                                                              \n"
     ]
    }
   ],
   "source": [
    "history2 = history[history['LAST_UPDATE'] == '2020-01-05']\n",
    "print (history2['DESCRIPTION'].to_string(index=False))"
   ]
  },
  {
   "cell_type": "markdown",
   "metadata": {},
   "source": [
    "## Newsletter : 2020-01-10"
   ]
  },
  {
   "cell_type": "code",
   "execution_count": 41,
   "metadata": {},
   "outputs": [
    {
     "name": "stdout",
     "output_type": "stream",
     "text": [
      " •  WHO issued a comprehensive package of technical guidance online with advice to all countries on how to                                                                                                                                                 \n",
      " detect, test and manage potential cases, based on what was known about the virus at the time. This                                                                                                                                                        \n",
      " guidance was shared with WHO's regional emergency directors to share with WHO representatives in                                                                                                                                                          \n",
      " countries.                                                                                                                                                                                                                                                \n",
      " •  Based on experience with SARS and MERS and known modes of transmission of respiratory viruses,                                                                                                                                                         \n",
      " infection and prevention control guidance were published to protect health workers recommending droplet                                                                                                                                                   \n",
      " and contact precautions when caring for patients, and airborne precautions for aerosol generating                                                                                                                                                         \n",
      " procedures conducted by health workers.                                                                                                                                                                                                                   \n",
      " WHO : EVENT AS THEY HAPPENED                                                                                                                                                                                                                              \n",
      " WHO issues its first guidance on the novel coronavirus                                                                                                                                                                                                    \n",
      " Developed with reference to other coronaviruses, such as SARS and MERS, WHO issued a tool for countries to                                                                                                                                                \n",
      " check their ability to detect and respond to a novel coronavirus.                                                                                                                                                                                         \n",
      " This information is to help with identifying main gaps, assessing risks and planning for additional investigations,                                                                                                                                       \n",
      " response and control actions.                                                                                                                                                                                                                             \n"
     ]
    }
   ],
   "source": [
    "history2 = history[history['LAST_UPDATE'] == '2020-01-10']\n",
    "print (history2['DESCRIPTION'].to_string(index=False))"
   ]
  },
  {
   "cell_type": "markdown",
   "metadata": {},
   "source": [
    "## Newsletter : 2020-01-11"
   ]
  },
  {
   "cell_type": "code",
   "execution_count": 42,
   "metadata": {},
   "outputs": [
    {
     "name": "stdout",
     "output_type": "stream",
     "text": [
      " WHO : EVENT AS THEY HAPPENED                                                                                                                                                                                                                              \n",
      " China makes genome sequencing of novel coronavirus publicly available                                                                                                                                                                                     \n",
      " China shares the genetic sequence of the novel coronavirus, which will be very important for other countries as                                                                                                                                           \n",
      " they develop specific diagnostic kits.                                                                                                                                                                                                                    \n"
     ]
    }
   ],
   "source": [
    "history2 = history[history['LAST_UPDATE'] == '2020-01-11']\n",
    "print (history2['DESCRIPTION'].to_string(index=False))"
   ]
  },
  {
   "cell_type": "markdown",
   "metadata": {},
   "source": [
    "## Newsletter : 2020-01-12"
   ]
  },
  {
   "cell_type": "code",
   "execution_count": 43,
   "metadata": {},
   "outputs": [
    {
     "name": "stdout",
     "output_type": "stream",
     "text": [
      " China publicly shared the genetic sequence of COVID-19                                                                                                                                                                                                    \n"
     ]
    }
   ],
   "source": [
    "history2 = history[history['LAST_UPDATE'] == '2020-01-12']\n",
    "print (history2['DESCRIPTION'].to_string(index=False))"
   ]
  },
  {
   "cell_type": "markdown",
   "metadata": {},
   "source": [
    "## Newsletter : 2020-01-13"
   ]
  },
  {
   "cell_type": "code",
   "execution_count": 44,
   "metadata": {},
   "outputs": [
    {
     "name": "stdout",
     "output_type": "stream",
     "text": [
      " WHO : EVENT AS THEY HAPPENED                                                                                                                                                                                                                              \n",
      " First case of novel coronavirus outside of China confirmed                                                                                                                                                                                                \n",
      " Officials confirmed a case of the novel coronavirus in Thailand. It was not unexpected that cases of the novel                                                                                                                                            \n",
      " coronavirus would emerge outside of China and reinforces why WHO calls for active monitoring and                                                                                                                                                          \n",
      " preparedness in other countries.                                                                                                                                                                                                                          \n",
      " •  Officials confirm a case of COVID-19 in Thailand, the first recorded case outside of China.                                                                                                                                                            \n"
     ]
    }
   ],
   "source": [
    "history2 = history[history['LAST_UPDATE'] == '2020-01-13']\n",
    "print (history2['DESCRIPTION'].to_string(index=False))"
   ]
  },
  {
   "cell_type": "markdown",
   "metadata": {},
   "source": [
    "## Newsletter : 2020-01-14"
   ]
  },
  {
   "cell_type": "code",
   "execution_count": 45,
   "metadata": {},
   "outputs": [
    {
     "name": "stdout",
     "output_type": "stream",
     "text": [
      " •  WHO's technical lead for the response noted in a press briefing there may have been limited human-to-                                                                                                                                                  \n",
      " human transmission of the coronavirus (in the 41 confirmed cases), mainly through family members, and                                                                                                                                                     \n",
      " that there was a risk of a possible wider outbreak. The lead also said that human-to-human transmission                                                                                                                                                   \n",
      " would not be surprising given our experience with SARS, MERS and other respiratory pathogens.                                                                                                                                                             \n"
     ]
    }
   ],
   "source": [
    "history2 = history[history['LAST_UPDATE'] == '2020-01-14']\n",
    "print (history2['DESCRIPTION'].to_string(index=False))"
   ]
  },
  {
   "cell_type": "markdown",
   "metadata": {},
   "source": [
    "## Newsletter : 2020-01-20"
   ]
  },
  {
   "cell_type": "code",
   "execution_count": 46,
   "metadata": {},
   "outputs": [
    {
     "name": "stdout",
     "output_type": "stream",
     "text": [
      " 20-21/01/2020 WHO experts from its China and Western Pacific regional offices conducted a brief field visit to Wuhan.                                                                                                                                     \n"
     ]
    }
   ],
   "source": [
    "history2 = history[history['LAST_UPDATE'] == '2020-01-20']\n",
    "print (history2['DESCRIPTION'].to_string(index=False))"
   ]
  },
  {
   "cell_type": "markdown",
   "metadata": {},
   "source": [
    "## Newsletter : 2020-01-21"
   ]
  },
  {
   "cell_type": "code",
   "execution_count": 47,
   "metadata": {},
   "outputs": [
    {
     "name": "stdout",
     "output_type": "stream",
     "text": [
      " WHO : EVENT AS THEY HAPPENED                                                                                                                                                                                                                              \n",
      " WHO makes field visit to Wuhan, China                                                                                                                                                                                                                     \n",
      " The delegation observed and discussed active surveillance processes, temperature screening at Wuhan Tianhe                                                                                                                                                \n",
      " airport, laboratory facilities, infection prevention and control measures at Zhongnan hospital and its associated                                                                                                                                         \n",
      " fever clinics, and the deployment of a test kit to detect the virus.                                                                                                                                                                                      \n",
      " The delegation also discussed public communication efforts and China's plan to expand the case definition for                                                                                                                                             \n",
      " the novel coronavirus, which will build a clearer picture of the spectrum of severity of the virus.                                                                                                                                                       \n",
      " At the end of the visit, the Chinese Government released the primers and probes used in the test kit for the novel                                                                                                                                        \n",
      " coronavirus to help other countries detect it. Chinese experts also shared a range of protocols that will be used                                                                                                                                         \n",
      " in developing international guidelines, including case definitions, clinical management protocols and infection                                                                                                                                           \n",
      " control.                                                                                                                                                                                                                                                  \n",
      " advised that it be recalled in approximately 10 days.                                                                                                                                                                                                     \n",
      " WHO - SITUATION REPORT - 1 : CHINA                                                                                                                                                                                                                        \n",
      " • National authorities are conducting active case finding in all provinces;                                                                                                                                                                               \n",
      " • Since 14 January 2020, 35 infrared thermometers have been installed in airports, railway                                                                                                                                                                \n",
      " stations, long-distance bus stations, and ferry terminals;                                                                                                                                                                                                \n",
      " • Search expanded for additional cases within and outside of Wuhan City;                                                                                                                                                                                  \n",
      " • Active / retroactive case finding in medical institutions in Wuhan City;                                                                                                                                                                                \n",
      " • The Huanan Seafood Wholesale Market in Wuhan city was closed on 1 January 2020 for                                                                                                                                                                      \n",
      " environmental sanitation and disinfection. Market inspection in expansion to other markets;                                                                                                                                                               \n",
      " • Public education on disease prevention and environmental hygiene further strengthened in                                                                                                                                                                \n",
      " public places across the city, farmers’ markets in particular.                                                                                                                                                                                            \n",
      " As of 21 January, 16 cases have been reported among health care workers in Wuhan. Detailed                                                                                                                                                                \n",
      " exposure information from these health care workers is not currently available to WHO.                                                                                                                                                                    \n",
      " One confirmed case in a female with travel history to Wuhan;                                                                                                                                                                                              \n",
      " Current condition is unknown.                                                                                                                                                                                                                             \n",
      " Three additional confirmed cases including one male and two females;                                                                                                                                                                                      \n",
      " Of the three confirmed cases, two had travel history to Wuhan and none had contact historywith cases.                                                                                                                                                     \n",
      " One confirmed case in a male who has worked in Wuhan;                                                                                                                                                                                                     \n",
      " Date of symptom onset was 29 December 2019, currently under stable condition.                                                                                                                                                                             \n",
      " Twelve additional confirmed cases were reported.                                                                                                                                                                                                          \n",
      " One confirmed case in a female, Wuhan resident;                                                                                                                                                                                                           \n",
      " Date of symptom onset is unknown, currently in stable condition.                                                                                                                                                                                          \n",
      " Two confirmed cases, both male;                                                                                                                                                                                                                           \n",
      " One had travel history to Wuhan and the other worked in Wuhan;                                                                                                                                                                                            \n",
      " Of these two cases, one is severely ill.                                                                                                                                                                                                                  \n",
      " One confirmed case in a male, Wuhan resident;                                                                                                                                                                                                             \n",
      " Fifty-three contacts have been identified and are followed.                                                                                                                                                                                               \n",
      " One additional confirmed case with no information available as of now;                                                                                                                                                                                    \n",
      " Twenty closed contacts for the first case mentioned in situation report published on 21                                                                                                                                                                   \n",
      " December 2020 are being followed up.                                                                                                                                                                                                                      \n",
      " One confirmed male, works in Wuhan.                                                                                                                                                                                                                       \n",
      " Two cases, one male and one female, not epidemiologically linked to each other;                                                                                                                                                                           \n",
      " Both had travel history to Wuhan;                                                                                                                                                                                                                         \n",
      " Current condition is unknown for both cases.                                                                                                                                                                                                              \n",
      " Current condition is unknown.                                                                                                                                                                                                                             \n",
      " One confirmed case in a male;                                                                                                                                                                                                                             \n",
      " Five confirmed cases;                                                                                                                                                                                                                                     \n",
      " All five cases had travel history to Wuhan and are currently in stable condition.                                                                                                                                                                         \n",
      " WHO - SITUATION REPORT - 1 : JAPAN                                                                                                                                                                                                                        \n",
      " • Contact tracing and other epidemiological investigations are underway by the local health                                                                                                                                                               \n",
      " authorities in Japan;                                                                                                                                                                                                                                     \n",
      " • As of 20 January 2020, 41 contacts have been followed. Of the 41 contacts, 37 have not                                                                                                                                                                  \n",
      " shown any symptoms, three have left the country and efforts have been made to reach one                                                                                                                                                                   \n",
      " contact;                                                                                                                                                                                                                                                  \n",
      " • The Japanese Government has scaled up a whole-of-government coordination mechanism                                                                                                                                                                      \n",
      " on the 16 January;                                                                                                                                                                                                                                        \n",
      " • The MHLW has strengthened surveillance for undiagnosed severe acute respiratory                                                                                                                                                                         \n",
      " illnesses since the report of undiagnosed pneumonia in Wuhan, China;                                                                                                                                                                                      \n",
      " • From 6 January, MHLW requested local health governments to be aware of the                                                                                                                                                                              \n",
      " respiratory illnesses in Wuhan by using the existing surveillance system for serious                                                                                                                                                                      \n",
      " infectious illness with unknown etiology;                                                                                                                                                                                                                 \n",
      " • NIID is supporting local authorities on epidemiologic investigations including contact                                                                                                                                                                  \n",
      " tracing;                                                                                                                                                                                                                                                  \n",
      " • Quarantine and screening measures have been enhanced for travelers from Wuhan city                                                                                                                                                                      \n",
      " at the point of entries since 7 January;                                                                                                                                                                                                                  \n",
      " • NIID established an in-house PCR assay for nCoV on 16 January;                                                                                                                                                                                          \n",
      " • Revision of the risk assessment by NIID is being conducted, including case definition ofclose contacts;                                                                                                                                                 \n",
      " • The public risk communication has been enhanced;                                                                                                                                                                                                        \n",
      " • A hotline has been established among the different ministries in the government;                                                                                                                                                                        \n",
      " • The MHLW is working closely with WHO and other related Member States to foster                                                                                                                                                                          \n",
      " mutual investigations and information sharing.                                                                                                                                                                                                            \n",
      " WHO - SITUATION REPORT - 1 : SOUTH KOREA                                                                                                                                                                                                                  \n",
      " • Contact tracing and other epidemiological investigation are underway;                                                                                                                                                                                   \n",
      " • The government of the Republic of Korea has scaled up the national alert level from Blue                                                                                                                                                                \n",
      " • The Republic of Korea health authority has strengthened surveillance for pneumonia                                                                                                                                                                      \n",
      " • Quarantine and screening measures have been enhanced for travelers from Wuhan at                                                                                                                                                                        \n",
      " the point of entries (PoE) since 3 January 2020;                                                                                                                                                                                                          \n",
      " • Public risk communication has been enhanced.                                                                                                                                                                                                            \n",
      " One confirmed case in a female, Wuhan resident;                                                                                                                                                                                                           \n",
      " No history of visiting the traditional markets or hospitals in Wuhan;                                                                                                                                                                                     \n",
      " No contact history with confirmed cases;                                                                                                                                                                                                                  \n",
      " No contact with live animals;                                                                                                                                                                                                                             \n",
      " Date of symptom onset was 11 January 2020;                                                                                                                                                                                                                \n",
      " Contact tracing and epidemiological investigations are underway.                                                                                                                                                                                          \n",
      " WHO - Situation Report  - 1 : Thailand                                                                                                                                                                                                                    \n",
      " • The Department of Disease Control has been implementing its surveillance protocol by fever                                                                                                                                                              \n",
      " screening of travellers from all direct flights from Wuhan, China to the Suvarnabhumi, Don                                                                                                                                                                \n",
      " Mueang, Chiang Mai, Phuket and Krabi airports, with the screening protocol starting at Krabi                                                                                                                                                              \n",
      " Airport started on 17 January 2020;                                                                                                                                                                                                                       \n",
      " • From 3 to 20 January 2020, among 116 flights, 18,383 passengers and aircrew members                                                                                                                                                                     \n",
      " were screened for respiratory symptoms and febrile illness;                                                                                                                                                                                               \n",
      " • As of 20 January 2020, the Department of Disease Control, Ministry of Public Health,                                                                                                                                                                    \n",
      " Thailand has scaled up the Emergency Operations Center to Level 2 to closely monitor the                                                                                                                                                                  \n",
      " ongoing situation both at the national and international levels;                                                                                                                                                                                          \n",
      " • Risk communication guidance has been shared with the public and a hotline has been                                                                                                                                                                      \n",
      " established by the Department of Disease Control for people returning from the affected                                                                                                                                                                   \n",
      " area in China with related symptoms.                                                                                                                                                                                                                      \n"
     ]
    }
   ],
   "source": [
    "history2 = history[history['LAST_UPDATE'] == '2020-01-21']\n",
    "print (history2['DESCRIPTION'].to_string(index=False))"
   ]
  },
  {
   "cell_type": "markdown",
   "metadata": {},
   "source": [
    "## Newsletter : 2020-01-22"
   ]
  },
  {
   "cell_type": "code",
   "execution_count": 48,
   "metadata": {},
   "outputs": [
    {
     "name": "stdout",
     "output_type": "stream",
     "text": [
      " •  WHO Director- General convened an Emergency Committee (EC) under the International Health                                                                                                                                                              \n",
      " Regulations (IHR 2005) to assess whether the outbreak constituted a public health emergency of                                                                                                                                                            \n",
      " international concern. The independent members from around the world could not reach a consensus based                                                                                                                                                    \n",
      " on the evidence available at the time. They asked to be reconvened within 10 days after receiving more                                                                                                                                                    \n",
      " in Wuhan but more investigation was needed to understand the full extent of transmission.                                                                                                                                                                 \n",
      " 1 new case in Macau                                                                                                                                                                                                                                       \n"
     ]
    }
   ],
   "source": [
    "history2 = history[history['LAST_UPDATE'] == '2020-01-22']\n",
    "print (history2['DESCRIPTION'].to_string(index=False))"
   ]
  },
  {
   "cell_type": "markdown",
   "metadata": {},
   "source": [
    "## Newsletter : 2020-01-23"
   ]
  },
  {
   "cell_type": "code",
   "execution_count": 50,
   "metadata": {},
   "outputs": [
    {
     "name": "stdout",
     "output_type": "stream",
     "text": [
      " WHO SITUATION UPDATE SUMMARY :                                                                                                                                                                                                                            \n",
      " • A total of 581 confirmed cases have been reported for novel coronavirus (2019-nCoV) globally;                                                                                                                                                           \n",
      " • Of the 581 cases reported, 571 cases were reported from China;                                                                                                                                                                                          \n",
      " • Cases have been reported in Thailand, Japan, Hong Kong Special Administrative Region, Taipei                                                                                                                                                            \n",
      " Municipality, China, Macau Special Administrative Region, United States of America and the                                                                                                                                                                \n",
      " Republic of Korea; All had travel history to Wuhan;                                                                                                                                                                                                       \n",
      " • Of the 571 confirmed cases in China, 375 cases were confirmed from Hubei Province;                                                                                                                                                                      \n",
      " • Of the 571 cases, 95 cases are severely ill2;                                                                                                                                                                                                           \n",
      " • Seventeen deaths have been reported (all from Hubei Province);                                                                                                                                                                                          \n",
      " On 23 January2020, the number of reported confirmed cases of 2019-nCoV has increased by 267                                                                                                                                                               \n",
      " cases since the last situation report published on 22 January 2020. As of 23 January, China reported                                                                                                                                                      \n",
      " cases in 25 provinces (autonomous regions and municipalities). Twenty five percent of confirmed                                                                                                                                                           \n",
      " cases reported by China have been classified by Chinese health authorities as seriously ill (from                                                                                                                                                         \n",
      " Wubei Province: (16% severely ill, 5% critically ill, and 4% having died).                                                                                                                                                                                \n",
      " Currently, cases infected in China have been exported to the US, Thailand, Japan and Republic of                                                                                                                                                          \n",
      " Korea. It is expected that more cases will be exported to other countries, and that further                                                                                                                                                               \n",
      " transmission may occur.                                                                                                                                                                                                                                   \n",
      " The initial source of 2019-nCoV still remains unknown. However, it is clear the growing outbreak is                                                                                                                                                       \n",
      " no longer due to ongoing exposures at the Huanan seafood market in Wuhan; as in the last one                                                                                                                                                              \n",
      " week, less than 15% of new cases reported having visited Huanan market. There is now more                                                                                                                                                                 \n",
      " evidence that 2019-nCoV spreads from human- to- human and also across generations of                                                                                                                                                                      \n",
      " cases. Moreover, family clusters involving persons with no reported travel to Wuhan have been                                                                                                                                                             \n",
      " reported from Guangdong Province. There have been very few reports of hospital outbreaks or                                                                                                                                                               \n",
      " infections of health care workers, which is a prominent feature of MERS and SARS.                                                                                                                                                                         \n",
      " WHO assesses the risk of this event to be very high in China, high at the regional level and high at the                                                                                                                                                  \n",
      " global level.                                                                                                                                                                                                                                             \n",
      " WHO : EVENT AS THEY HAPPENED                                                                                                                                                                                                                              \n",
      " First meeting of Emergency Committee regarding the novel coronavirus outbreak                                                                                                                                                                             \n",
      " On 22-23 February, the WHO Director General convened the Emergency Committee to consider the outbreak of                                                                                                                                                  \n",
      " the novel coronavirus in China, with cases also reported in the Republic of Korea, Japan, Thailand and                                                                                                                                                    \n",
      " Singapore.                                                                                                                                                                                                                                                \n",
      " Several Committee members considered it still too early to declare a Public Health Emergency of International                                                                                                                                             \n",
      " Concern (PHEIC), given its restrictive and binary nature. Among other recommendations, the Committee                                                                                                                                                      \n",
      " 8 new cases in Anhui, China                                                                                                                                                                                                                               \n",
      " 8 new cases in Beijing, China                                                                                                                                                                                                                             \n",
      " 3 new cases in Chongqing, China                                                                                                                                                                                                                           \n",
      " 4 new cases in Fujian, China                                                                                                                                                                                                                              \n",
      " 6 new cases in Guangdong, China                                                                                                                                                                                                                           \n",
      " 3 new cases in Guangxi, China                                                                                                                                                                                                                             \n",
      " 2 new cases in Guizhou, China                                                                                                                                                                                                                             \n",
      " 1 new case in Hainan, China                                                                                                                                                                                                                               \n",
      " 5 new cases in Hunan, China                                                                                                                                                                                                                               \n",
      " 4 new cases in Jiangsu, China                                                                                                                                                                                                                             \n",
      " 5 new cases in Jiangxi, China                                                                                                                                                                                                                             \n",
      " 1 new case in Liaoning, China                                                                                                                                                                                                                             \n",
      " 4 new cases in Shandong, China                                                                                                                                                                                                                            \n",
      " 7 new cases in Shanghai, China                                                                                                                                                                                                                            \n",
      " 3 new cases in Sichuan, China                                                                                                                                                                                                                             \n",
      " 1 new case in Yunnan, China                                                                                                                                                                                                                               \n",
      " 17 new cases in Zhejiang, China                                                                                                                                                                                                                           \n",
      " 1 new case in Macau                                                                                                                                                                                                                                       \n",
      " 1 new case in Singapore                                                                                                                                                                                                                                   \n",
      " 1 new case in Thailand                                                                                                                                                                                                                                    \n",
      " 2 new cases in Vietnam                                                                                                                                                                                                                                    \n"
     ]
    }
   ],
   "source": [
    "history2 = history[history['LAST_UPDATE'] == '2020-01-23']\n",
    "print (history2['DESCRIPTION'].to_string(index=False))"
   ]
  },
  {
   "cell_type": "code",
   "execution_count": null,
   "metadata": {},
   "outputs": [],
   "source": []
  }
 ],
 "metadata": {
  "kernelspec": {
   "display_name": "Python 3.6",
   "language": "python",
   "name": "python3"
  },
  "language_info": {
   "codemirror_mode": {
    "name": "ipython",
    "version": 3
   },
   "file_extension": ".py",
   "mimetype": "text/x-python",
   "name": "python",
   "nbconvert_exporter": "python",
   "pygments_lexer": "ipython3",
   "version": "3.6.9"
  }
 },
 "nbformat": 4,
 "nbformat_minor": 1
}
